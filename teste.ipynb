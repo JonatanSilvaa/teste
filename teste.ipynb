{
 "cells": [
  {
   "cell_type": "code",
   "execution_count": null,
   "metadata": {},
   "outputs": [],
   "source": [
    "import pandas as pd\n",
    "\n",
    "data = pd.read_csv('teste.csv')\n",
    "\n",
    "print( data.columns )"
   ]
  }
 ],
 "metadata": {
  "interpreter": {
   "hash": "a451f90202330b4b0a43cdee838cb52f167360b45f515e74de1dcd7fb6d146b7"
  },
  "kernelspec": {
   "display_name": "Python 3.9.10 64-bit (windows store)",
   "language": "python",
   "name": "python3"
  },
  "language_info": {
   "name": "python",
   "version": "3.9.10"
  },
  "orig_nbformat": 4
 },
 "nbformat": 4,
 "nbformat_minor": 2
}
